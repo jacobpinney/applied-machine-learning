{
 "cells": [
  {
   "cell_type": "code",
   "execution_count": 7,
   "metadata": {},
   "outputs": [
    {
     "data": {
      "text/html": [
       "<div>\n",
       "<style scoped>\n",
       "    .dataframe tbody tr th:only-of-type {\n",
       "        vertical-align: middle;\n",
       "    }\n",
       "\n",
       "    .dataframe tbody tr th {\n",
       "        vertical-align: top;\n",
       "    }\n",
       "\n",
       "    .dataframe thead th {\n",
       "        text-align: right;\n",
       "    }\n",
       "</style>\n",
       "<table border=\"1\" class=\"dataframe\">\n",
       "  <thead>\n",
       "    <tr style=\"text-align: right;\">\n",
       "      <th></th>\n",
       "      <th>age</th>\n",
       "      <th>job</th>\n",
       "      <th>marital</th>\n",
       "      <th>education</th>\n",
       "      <th>default</th>\n",
       "      <th>balance</th>\n",
       "      <th>housing</th>\n",
       "      <th>loan</th>\n",
       "      <th>contact</th>\n",
       "      <th>day</th>\n",
       "      <th>month</th>\n",
       "      <th>duration</th>\n",
       "      <th>campaign</th>\n",
       "      <th>pdays</th>\n",
       "      <th>previous</th>\n",
       "      <th>poutcome</th>\n",
       "      <th>y</th>\n",
       "    </tr>\n",
       "  </thead>\n",
       "  <tbody>\n",
       "    <tr>\n",
       "      <th>0</th>\n",
       "      <td>58</td>\n",
       "      <td>management</td>\n",
       "      <td>married</td>\n",
       "      <td>tertiary</td>\n",
       "      <td>no</td>\n",
       "      <td>2143</td>\n",
       "      <td>yes</td>\n",
       "      <td>no</td>\n",
       "      <td>unknown</td>\n",
       "      <td>5</td>\n",
       "      <td>may</td>\n",
       "      <td>261</td>\n",
       "      <td>1</td>\n",
       "      <td>-1</td>\n",
       "      <td>0</td>\n",
       "      <td>unknown</td>\n",
       "      <td>no</td>\n",
       "    </tr>\n",
       "    <tr>\n",
       "      <th>1</th>\n",
       "      <td>44</td>\n",
       "      <td>technician</td>\n",
       "      <td>single</td>\n",
       "      <td>secondary</td>\n",
       "      <td>no</td>\n",
       "      <td>29</td>\n",
       "      <td>yes</td>\n",
       "      <td>no</td>\n",
       "      <td>unknown</td>\n",
       "      <td>5</td>\n",
       "      <td>may</td>\n",
       "      <td>151</td>\n",
       "      <td>1</td>\n",
       "      <td>-1</td>\n",
       "      <td>0</td>\n",
       "      <td>unknown</td>\n",
       "      <td>no</td>\n",
       "    </tr>\n",
       "    <tr>\n",
       "      <th>2</th>\n",
       "      <td>33</td>\n",
       "      <td>entrepreneur</td>\n",
       "      <td>married</td>\n",
       "      <td>secondary</td>\n",
       "      <td>no</td>\n",
       "      <td>2</td>\n",
       "      <td>yes</td>\n",
       "      <td>yes</td>\n",
       "      <td>unknown</td>\n",
       "      <td>5</td>\n",
       "      <td>may</td>\n",
       "      <td>76</td>\n",
       "      <td>1</td>\n",
       "      <td>-1</td>\n",
       "      <td>0</td>\n",
       "      <td>unknown</td>\n",
       "      <td>no</td>\n",
       "    </tr>\n",
       "    <tr>\n",
       "      <th>3</th>\n",
       "      <td>47</td>\n",
       "      <td>blue-collar</td>\n",
       "      <td>married</td>\n",
       "      <td>unknown</td>\n",
       "      <td>no</td>\n",
       "      <td>1506</td>\n",
       "      <td>yes</td>\n",
       "      <td>no</td>\n",
       "      <td>unknown</td>\n",
       "      <td>5</td>\n",
       "      <td>may</td>\n",
       "      <td>92</td>\n",
       "      <td>1</td>\n",
       "      <td>-1</td>\n",
       "      <td>0</td>\n",
       "      <td>unknown</td>\n",
       "      <td>no</td>\n",
       "    </tr>\n",
       "    <tr>\n",
       "      <th>4</th>\n",
       "      <td>33</td>\n",
       "      <td>unknown</td>\n",
       "      <td>single</td>\n",
       "      <td>unknown</td>\n",
       "      <td>no</td>\n",
       "      <td>1</td>\n",
       "      <td>no</td>\n",
       "      <td>no</td>\n",
       "      <td>unknown</td>\n",
       "      <td>5</td>\n",
       "      <td>may</td>\n",
       "      <td>198</td>\n",
       "      <td>1</td>\n",
       "      <td>-1</td>\n",
       "      <td>0</td>\n",
       "      <td>unknown</td>\n",
       "      <td>no</td>\n",
       "    </tr>\n",
       "  </tbody>\n",
       "</table>\n",
       "</div>"
      ],
      "text/plain": [
       "   age           job  marital  education default  balance housing loan  \\\n",
       "0   58    management  married   tertiary      no     2143     yes   no   \n",
       "1   44    technician   single  secondary      no       29     yes   no   \n",
       "2   33  entrepreneur  married  secondary      no        2     yes  yes   \n",
       "3   47   blue-collar  married    unknown      no     1506     yes   no   \n",
       "4   33       unknown   single    unknown      no        1      no   no   \n",
       "\n",
       "   contact  day month  duration  campaign  pdays  previous poutcome   y  \n",
       "0  unknown    5   may       261         1     -1         0  unknown  no  \n",
       "1  unknown    5   may       151         1     -1         0  unknown  no  \n",
       "2  unknown    5   may        76         1     -1         0  unknown  no  \n",
       "3  unknown    5   may        92         1     -1         0  unknown  no  \n",
       "4  unknown    5   may       198         1     -1         0  unknown  no  "
      ]
     },
     "execution_count": 7,
     "metadata": {},
     "output_type": "execute_result"
    }
   ],
   "source": [
    "# Dataset selection and exploration\n",
    "# chose https://archive.ics.uci.edu/dataset/222/bank+marketing and using bank-full.csv\n",
    "# pip install patsy\n",
    "\n",
    "import pandas as pd\n",
    "\n",
    "bank_df = pd.read_csv('bank-full.csv', delimiter=';')\n",
    "bank_df.head()"
   ]
  },
  {
   "cell_type": "code",
   "execution_count": 8,
   "metadata": {},
   "outputs": [
    {
     "name": "stdout",
     "output_type": "stream",
     "text": [
      "<class 'pandas.core.frame.DataFrame'>\n",
      "RangeIndex: 45211 entries, 0 to 45210\n",
      "Data columns (total 17 columns):\n",
      " #   Column     Non-Null Count  Dtype \n",
      "---  ------     --------------  ----- \n",
      " 0   age        45211 non-null  int64 \n",
      " 1   job        45211 non-null  object\n",
      " 2   marital    45211 non-null  object\n",
      " 3   education  45211 non-null  object\n",
      " 4   default    45211 non-null  object\n",
      " 5   balance    45211 non-null  int64 \n",
      " 6   housing    45211 non-null  object\n",
      " 7   loan       45211 non-null  object\n",
      " 8   contact    45211 non-null  object\n",
      " 9   day        45211 non-null  int64 \n",
      " 10  month      45211 non-null  object\n",
      " 11  duration   45211 non-null  int64 \n",
      " 12  campaign   45211 non-null  int64 \n",
      " 13  pdays      45211 non-null  int64 \n",
      " 14  previous   45211 non-null  int64 \n",
      " 15  poutcome   45211 non-null  object\n",
      " 16  y          45211 non-null  object\n",
      "dtypes: int64(7), object(10)\n",
      "memory usage: 5.9+ MB\n"
     ]
    }
   ],
   "source": [
    "bank_df.info()"
   ]
  },
  {
   "cell_type": "code",
   "execution_count": 12,
   "metadata": {},
   "outputs": [
    {
     "data": {
      "text/plain": [
       "0    no\n",
       "1    no\n",
       "2    no\n",
       "3    no\n",
       "4    no\n",
       "Name: y, dtype: object"
      ]
     },
     "execution_count": 12,
     "metadata": {},
     "output_type": "execute_result"
    }
   ],
   "source": [
    "# machine learning task = binary classification\n",
    "# need to predict if the client will subscribe a term deposit (yes/no)\n",
    "\n",
    "# it is noted by the dataset authors that duration should not be used in predictive models, as it is highly correlated with the target variable\n",
    "# if duration is 0, it is known that y is 'no', as such, we will remove this column\n",
    "\n",
    "bank_slim_df = bank_df.drop('duration', axis=1)\n",
    "\n",
    "# we will choose SVM as the base model to use for this dataset\n",
    "\n",
    "# split out the target column\n",
    "target = bank_slim_df['y']\n",
    "feature_matrix = bank_slim_df.drop('y', axis=1)\n",
    "\n",
    "target.head()\n"
   ]
  },
  {
   "cell_type": "code",
   "execution_count": 13,
   "metadata": {},
   "outputs": [
    {
     "data": {
      "text/html": [
       "<div>\n",
       "<style scoped>\n",
       "    .dataframe tbody tr th:only-of-type {\n",
       "        vertical-align: middle;\n",
       "    }\n",
       "\n",
       "    .dataframe tbody tr th {\n",
       "        vertical-align: top;\n",
       "    }\n",
       "\n",
       "    .dataframe thead th {\n",
       "        text-align: right;\n",
       "    }\n",
       "</style>\n",
       "<table border=\"1\" class=\"dataframe\">\n",
       "  <thead>\n",
       "    <tr style=\"text-align: right;\">\n",
       "      <th></th>\n",
       "      <th>age</th>\n",
       "      <th>job</th>\n",
       "      <th>marital</th>\n",
       "      <th>education</th>\n",
       "      <th>default</th>\n",
       "      <th>balance</th>\n",
       "      <th>housing</th>\n",
       "      <th>loan</th>\n",
       "      <th>contact</th>\n",
       "      <th>day</th>\n",
       "      <th>month</th>\n",
       "      <th>campaign</th>\n",
       "      <th>pdays</th>\n",
       "      <th>previous</th>\n",
       "      <th>poutcome</th>\n",
       "    </tr>\n",
       "  </thead>\n",
       "  <tbody>\n",
       "    <tr>\n",
       "      <th>0</th>\n",
       "      <td>58</td>\n",
       "      <td>management</td>\n",
       "      <td>married</td>\n",
       "      <td>tertiary</td>\n",
       "      <td>no</td>\n",
       "      <td>2143</td>\n",
       "      <td>yes</td>\n",
       "      <td>no</td>\n",
       "      <td>unknown</td>\n",
       "      <td>5</td>\n",
       "      <td>may</td>\n",
       "      <td>1</td>\n",
       "      <td>-1</td>\n",
       "      <td>0</td>\n",
       "      <td>unknown</td>\n",
       "    </tr>\n",
       "    <tr>\n",
       "      <th>1</th>\n",
       "      <td>44</td>\n",
       "      <td>technician</td>\n",
       "      <td>single</td>\n",
       "      <td>secondary</td>\n",
       "      <td>no</td>\n",
       "      <td>29</td>\n",
       "      <td>yes</td>\n",
       "      <td>no</td>\n",
       "      <td>unknown</td>\n",
       "      <td>5</td>\n",
       "      <td>may</td>\n",
       "      <td>1</td>\n",
       "      <td>-1</td>\n",
       "      <td>0</td>\n",
       "      <td>unknown</td>\n",
       "    </tr>\n",
       "    <tr>\n",
       "      <th>2</th>\n",
       "      <td>33</td>\n",
       "      <td>entrepreneur</td>\n",
       "      <td>married</td>\n",
       "      <td>secondary</td>\n",
       "      <td>no</td>\n",
       "      <td>2</td>\n",
       "      <td>yes</td>\n",
       "      <td>yes</td>\n",
       "      <td>unknown</td>\n",
       "      <td>5</td>\n",
       "      <td>may</td>\n",
       "      <td>1</td>\n",
       "      <td>-1</td>\n",
       "      <td>0</td>\n",
       "      <td>unknown</td>\n",
       "    </tr>\n",
       "    <tr>\n",
       "      <th>3</th>\n",
       "      <td>47</td>\n",
       "      <td>blue-collar</td>\n",
       "      <td>married</td>\n",
       "      <td>unknown</td>\n",
       "      <td>no</td>\n",
       "      <td>1506</td>\n",
       "      <td>yes</td>\n",
       "      <td>no</td>\n",
       "      <td>unknown</td>\n",
       "      <td>5</td>\n",
       "      <td>may</td>\n",
       "      <td>1</td>\n",
       "      <td>-1</td>\n",
       "      <td>0</td>\n",
       "      <td>unknown</td>\n",
       "    </tr>\n",
       "    <tr>\n",
       "      <th>4</th>\n",
       "      <td>33</td>\n",
       "      <td>unknown</td>\n",
       "      <td>single</td>\n",
       "      <td>unknown</td>\n",
       "      <td>no</td>\n",
       "      <td>1</td>\n",
       "      <td>no</td>\n",
       "      <td>no</td>\n",
       "      <td>unknown</td>\n",
       "      <td>5</td>\n",
       "      <td>may</td>\n",
       "      <td>1</td>\n",
       "      <td>-1</td>\n",
       "      <td>0</td>\n",
       "      <td>unknown</td>\n",
       "    </tr>\n",
       "  </tbody>\n",
       "</table>\n",
       "</div>"
      ],
      "text/plain": [
       "   age           job  marital  education default  balance housing loan  \\\n",
       "0   58    management  married   tertiary      no     2143     yes   no   \n",
       "1   44    technician   single  secondary      no       29     yes   no   \n",
       "2   33  entrepreneur  married  secondary      no        2     yes  yes   \n",
       "3   47   blue-collar  married    unknown      no     1506     yes   no   \n",
       "4   33       unknown   single    unknown      no        1      no   no   \n",
       "\n",
       "   contact  day month  campaign  pdays  previous poutcome  \n",
       "0  unknown    5   may         1     -1         0  unknown  \n",
       "1  unknown    5   may         1     -1         0  unknown  \n",
       "2  unknown    5   may         1     -1         0  unknown  \n",
       "3  unknown    5   may         1     -1         0  unknown  \n",
       "4  unknown    5   may         1     -1         0  unknown  "
      ]
     },
     "execution_count": 13,
     "metadata": {},
     "output_type": "execute_result"
    }
   ],
   "source": [
    "feature_matrix.head()"
   ]
  },
  {
   "cell_type": "code",
   "execution_count": 20,
   "metadata": {},
   "outputs": [
    {
     "data": {
      "text/html": [
       "<style>#sk-container-id-1 {color: black;}#sk-container-id-1 pre{padding: 0;}#sk-container-id-1 div.sk-toggleable {background-color: white;}#sk-container-id-1 label.sk-toggleable__label {cursor: pointer;display: block;width: 100%;margin-bottom: 0;padding: 0.3em;box-sizing: border-box;text-align: center;}#sk-container-id-1 label.sk-toggleable__label-arrow:before {content: \"▸\";float: left;margin-right: 0.25em;color: #696969;}#sk-container-id-1 label.sk-toggleable__label-arrow:hover:before {color: black;}#sk-container-id-1 div.sk-estimator:hover label.sk-toggleable__label-arrow:before {color: black;}#sk-container-id-1 div.sk-toggleable__content {max-height: 0;max-width: 0;overflow: hidden;text-align: left;background-color: #f0f8ff;}#sk-container-id-1 div.sk-toggleable__content pre {margin: 0.2em;color: black;border-radius: 0.25em;background-color: #f0f8ff;}#sk-container-id-1 input.sk-toggleable__control:checked~div.sk-toggleable__content {max-height: 200px;max-width: 100%;overflow: auto;}#sk-container-id-1 input.sk-toggleable__control:checked~label.sk-toggleable__label-arrow:before {content: \"▾\";}#sk-container-id-1 div.sk-estimator input.sk-toggleable__control:checked~label.sk-toggleable__label {background-color: #d4ebff;}#sk-container-id-1 div.sk-label input.sk-toggleable__control:checked~label.sk-toggleable__label {background-color: #d4ebff;}#sk-container-id-1 input.sk-hidden--visually {border: 0;clip: rect(1px 1px 1px 1px);clip: rect(1px, 1px, 1px, 1px);height: 1px;margin: -1px;overflow: hidden;padding: 0;position: absolute;width: 1px;}#sk-container-id-1 div.sk-estimator {font-family: monospace;background-color: #f0f8ff;border: 1px dotted black;border-radius: 0.25em;box-sizing: border-box;margin-bottom: 0.5em;}#sk-container-id-1 div.sk-estimator:hover {background-color: #d4ebff;}#sk-container-id-1 div.sk-parallel-item::after {content: \"\";width: 100%;border-bottom: 1px solid gray;flex-grow: 1;}#sk-container-id-1 div.sk-label:hover label.sk-toggleable__label {background-color: #d4ebff;}#sk-container-id-1 div.sk-serial::before {content: \"\";position: absolute;border-left: 1px solid gray;box-sizing: border-box;top: 0;bottom: 0;left: 50%;z-index: 0;}#sk-container-id-1 div.sk-serial {display: flex;flex-direction: column;align-items: center;background-color: white;padding-right: 0.2em;padding-left: 0.2em;position: relative;}#sk-container-id-1 div.sk-item {position: relative;z-index: 1;}#sk-container-id-1 div.sk-parallel {display: flex;align-items: stretch;justify-content: center;background-color: white;position: relative;}#sk-container-id-1 div.sk-item::before, #sk-container-id-1 div.sk-parallel-item::before {content: \"\";position: absolute;border-left: 1px solid gray;box-sizing: border-box;top: 0;bottom: 0;left: 50%;z-index: -1;}#sk-container-id-1 div.sk-parallel-item {display: flex;flex-direction: column;z-index: 1;position: relative;background-color: white;}#sk-container-id-1 div.sk-parallel-item:first-child::after {align-self: flex-end;width: 50%;}#sk-container-id-1 div.sk-parallel-item:last-child::after {align-self: flex-start;width: 50%;}#sk-container-id-1 div.sk-parallel-item:only-child::after {width: 0;}#sk-container-id-1 div.sk-dashed-wrapped {border: 1px dashed gray;margin: 0 0.4em 0.5em 0.4em;box-sizing: border-box;padding-bottom: 0.4em;background-color: white;}#sk-container-id-1 div.sk-label label {font-family: monospace;font-weight: bold;display: inline-block;line-height: 1.2em;}#sk-container-id-1 div.sk-label-container {text-align: center;}#sk-container-id-1 div.sk-container {/* jupyter's `normalize.less` sets `[hidden] { display: none; }` but bootstrap.min.css set `[hidden] { display: none !important; }` so we also need the `!important` here to be able to override the default hidden behavior on the sphinx rendered scikit-learn.org. See: https://github.com/scikit-learn/scikit-learn/issues/21755 */display: inline-block !important;position: relative;}#sk-container-id-1 div.sk-text-repr-fallback {display: none;}</style><div id=\"sk-container-id-1\" class=\"sk-top-container\"><div class=\"sk-text-repr-fallback\"><pre>SVC()</pre><b>In a Jupyter environment, please rerun this cell to show the HTML representation or trust the notebook. <br />On GitHub, the HTML representation is unable to render, please try loading this page with nbviewer.org.</b></div><div class=\"sk-container\" hidden><div class=\"sk-item\"><div class=\"sk-estimator sk-toggleable\"><input class=\"sk-toggleable__control sk-hidden--visually\" id=\"sk-estimator-id-1\" type=\"checkbox\" checked><label for=\"sk-estimator-id-1\" class=\"sk-toggleable__label sk-toggleable__label-arrow\">SVC</label><div class=\"sk-toggleable__content\"><pre>SVC()</pre></div></div></div></div></div>"
      ],
      "text/plain": [
       "SVC()"
      ]
     },
     "execution_count": 20,
     "metadata": {},
     "output_type": "execute_result"
    }
   ],
   "source": [
    "# drop any rows that aren't numeric\n",
    "numerical_feature_matrix = feature_matrix[[\"age\", \"balance\", \"day\", \"campaign\", \"pdays\", \"previous\"]]\n",
    "\n",
    "# Implement a baseline model without any feature engineering\n",
    "from sklearn.model_selection import train_test_split\n",
    "from sklearn.svm import SVC\n",
    "\n",
    "X_train, X_test, y_train, y_test = train_test_split(numerical_feature_matrix, target, test_size=0.2)\n",
    "\n",
    "model = SVC()\n",
    "\n",
    "# Train the baseline model\n",
    "model.fit(X_train, y_train)"
   ]
  },
  {
   "cell_type": "code",
   "execution_count": 21,
   "metadata": {},
   "outputs": [],
   "source": [
    "# Run the model\n",
    "pred_y = model.predict(X_test)"
   ]
  },
  {
   "cell_type": "code",
   "execution_count": 46,
   "metadata": {},
   "outputs": [
    {
     "name": "stdout",
     "output_type": "stream",
     "text": [
      "Scores:\n",
      "Accuracy Score:\t88.13\n",
      "Precision:\t89.54\n",
      "Recall:\t\t88.13\n",
      "F1 Score:\t82.59\n"
     ]
    }
   ],
   "source": [
    "# Evaluate the baseline model using appropriate metrics\n",
    "from sklearn.metrics import accuracy_score, precision_score, recall_score, f1_score\n",
    "\n",
    "def evaluate_model(y_test, pred_y):\n",
    "\taccuracy = accuracy_score(y_test, pred_y) * 100\n",
    "\tprecision = precision_score(y_test, pred_y, average='weighted') * 100\n",
    "\trecall = recall_score(y_test, pred_y, average='weighted') * 100\n",
    "\tf1 = f1_score(y_test, pred_y, average='weighted') * 100\n",
    "\n",
    "\tprint(f'Scores:\\nAccuracy Score:\\t{accuracy:.2f}\\nPrecision:\\t{precision:.2f}\\nRecall:\\t\\t{recall:.2f}\\nF1 Score:\\t{f1:.2f}')\n",
    "\n",
    "evaluate_model(y_test, pred_y)"
   ]
  },
  {
   "cell_type": "code",
   "execution_count": 44,
   "metadata": {},
   "outputs": [
    {
     "name": "stdout",
     "output_type": "stream",
     "text": [
      "<class 'pandas.core.frame.DataFrame'>\n",
      "RangeIndex: 45211 entries, 0 to 45210\n",
      "Data columns (total 50 columns):\n",
      " #   Column               Non-Null Count  Dtype\n",
      "---  ------               --------------  -----\n",
      " 0   age                  45211 non-null  int64\n",
      " 1   balance              45211 non-null  int64\n",
      " 2   day                  45211 non-null  int64\n",
      " 3   campaign             45211 non-null  int64\n",
      " 4   pdays                45211 non-null  int64\n",
      " 5   previous             45211 non-null  int64\n",
      " 6   job_admin.           45211 non-null  bool \n",
      " 7   job_blue-collar      45211 non-null  bool \n",
      " 8   job_entrepreneur     45211 non-null  bool \n",
      " 9   job_housemaid        45211 non-null  bool \n",
      " 10  job_management       45211 non-null  bool \n",
      " 11  job_retired          45211 non-null  bool \n",
      " 12  job_self-employed    45211 non-null  bool \n",
      " 13  job_services         45211 non-null  bool \n",
      " 14  job_student          45211 non-null  bool \n",
      " 15  job_technician       45211 non-null  bool \n",
      " 16  job_unemployed       45211 non-null  bool \n",
      " 17  job_unknown          45211 non-null  bool \n",
      " 18  marital_divorced     45211 non-null  bool \n",
      " 19  marital_married      45211 non-null  bool \n",
      " 20  marital_single       45211 non-null  bool \n",
      " 21  education_primary    45211 non-null  bool \n",
      " 22  education_secondary  45211 non-null  bool \n",
      " 23  education_tertiary   45211 non-null  bool \n",
      " 24  education_unknown    45211 non-null  bool \n",
      " 25  default_no           45211 non-null  bool \n",
      " 26  default_yes          45211 non-null  bool \n",
      " 27  housing_no           45211 non-null  bool \n",
      " 28  housing_yes          45211 non-null  bool \n",
      " 29  loan_no              45211 non-null  bool \n",
      " 30  loan_yes             45211 non-null  bool \n",
      " 31  contact_cellular     45211 non-null  bool \n",
      " 32  contact_telephone    45211 non-null  bool \n",
      " 33  contact_unknown      45211 non-null  bool \n",
      " 34  month_apr            45211 non-null  bool \n",
      " 35  month_aug            45211 non-null  bool \n",
      " 36  month_dec            45211 non-null  bool \n",
      " 37  month_feb            45211 non-null  bool \n",
      " 38  month_jan            45211 non-null  bool \n",
      " 39  month_jul            45211 non-null  bool \n",
      " 40  month_jun            45211 non-null  bool \n",
      " 41  month_mar            45211 non-null  bool \n",
      " 42  month_may            45211 non-null  bool \n",
      " 43  month_nov            45211 non-null  bool \n",
      " 44  month_oct            45211 non-null  bool \n",
      " 45  month_sep            45211 non-null  bool \n",
      " 46  poutcome_failure     45211 non-null  bool \n",
      " 47  poutcome_other       45211 non-null  bool \n",
      " 48  poutcome_success     45211 non-null  bool \n",
      " 49  poutcome_unknown     45211 non-null  bool \n",
      "dtypes: bool(44), int64(6)\n",
      "memory usage: 4.0 MB\n"
     ]
    }
   ],
   "source": [
    "# Feature engineering techniques\n",
    "\n",
    "def test_model(feature_matrix):\n",
    "\tX_train, X_test, y_train, y_test = train_test_split(feature_matrix, target, test_size=0.2)\n",
    "\n",
    "\tmodel = SVC()\n",
    "\n",
    "\tmodel.fit(X_train, y_train)\n",
    "\n",
    "\tpred_y = model.predict(X_test)\n",
    "\n",
    "\tevaluate_model(y_test, pred_y)\n",
    "\n",
    "# Encoding categorical variables\n",
    "# categorical variables: job, marital, education, default, housing, loan, contact, month, poutcome\n",
    "# we will use one-hot encoding to encode these variables\n",
    "\n",
    "job_dummies = pd.get_dummies(feature_matrix['job'], prefix='job')\n",
    "marital_dummies = pd.get_dummies(feature_matrix['marital'], prefix='marital')\n",
    "education_dummies = pd.get_dummies(feature_matrix['education'], prefix='education')\n",
    "default_dummies = pd.get_dummies(feature_matrix['default'], prefix='default')\n",
    "housing_dummies = pd.get_dummies(feature_matrix['housing'], prefix='housing')\n",
    "loan_dummies = pd.get_dummies(feature_matrix['loan'], prefix='loan')\n",
    "contact_dummies = pd.get_dummies(feature_matrix['contact'], prefix='contact')\n",
    "month_dummies = pd.get_dummies(feature_matrix['month'], prefix='month')\n",
    "poutcome_dummies = pd.get_dummies(feature_matrix['poutcome'], prefix='poutcome')\n",
    "\n",
    "# drop the original columns\n",
    "one_hot_feature_matrix = feature_matrix.drop(['job', 'marital', 'education', 'default', 'housing', 'loan', 'contact', 'month', 'poutcome'], axis=1)\n",
    "one_hot_feature_matrix = pd.concat([one_hot_feature_matrix, job_dummies, marital_dummies, education_dummies, default_dummies, housing_dummies, loan_dummies, contact_dummies, month_dummies, poutcome_dummies], axis=1)\n",
    "\n",
    "# view the new df\n",
    "one_hot_feature_matrix.info()"
   ]
  },
  {
   "cell_type": "code",
   "execution_count": 48,
   "metadata": {},
   "outputs": [
    {
     "name": "stdout",
     "output_type": "stream",
     "text": [
      "Scores:\n",
      "Accuracy Score:\t88.42\n",
      "Precision:\t89.76\n",
      "Recall:\t\t88.42\n",
      "F1 Score:\t83.00\n"
     ]
    }
   ],
   "source": [
    "# test the new feature matrix\n",
    "test_model(one_hot_feature_matrix)"
   ]
  },
  {
   "cell_type": "code",
   "execution_count": 49,
   "metadata": {},
   "outputs": [],
   "source": [
    "# given the minimal model impact, we will go on without these additional features\n",
    "numerical_feature_matrix = feature_matrix[[\"age\", \"balance\", \"day\", \"campaign\", \"pdays\", \"previous\"]]"
   ]
  },
  {
   "cell_type": "code",
   "execution_count": 50,
   "metadata": {},
   "outputs": [
    {
     "name": "stdout",
     "output_type": "stream",
     "text": [
      "<class 'pandas.core.frame.DataFrame'>\n",
      "RangeIndex: 45211 entries, 0 to 45210\n",
      "Data columns (total 6 columns):\n",
      " #   Column    Non-Null Count  Dtype\n",
      "---  ------    --------------  -----\n",
      " 0   age       45211 non-null  int64\n",
      " 1   balance   45211 non-null  int64\n",
      " 2   day       45211 non-null  int64\n",
      " 3   campaign  45211 non-null  int64\n",
      " 4   pdays     45211 non-null  int64\n",
      " 5   previous  45211 non-null  int64\n",
      "dtypes: int64(6)\n",
      "memory usage: 2.1 MB\n"
     ]
    }
   ],
   "source": [
    "# Handling missing values\n",
    "numerical_feature_matrix.info()"
   ]
  },
  {
   "cell_type": "code",
   "execution_count": 52,
   "metadata": {},
   "outputs": [
    {
     "name": "stdout",
     "output_type": "stream",
     "text": [
      "age:\n",
      "Min: 18\n",
      "Max: 95\n",
      "\n",
      "balance:\n",
      "Min: -8019\n",
      "Max: 102127\n",
      "\n",
      "day:\n",
      "Min: 1\n",
      "Max: 31\n",
      "\n",
      "campaign:\n",
      "Min: 1\n",
      "Max: 63\n",
      "\n",
      "pdays:\n",
      "Min: -1\n",
      "Max: 871\n",
      "\n",
      "previous:\n",
      "Min: 0\n",
      "Max: 275\n",
      "\n"
     ]
    }
   ],
   "source": [
    "# check for missing values\n",
    "def print_min_max(df, column):\n",
    "\tprint(f'{column}:\\nMin: {df[column].min()}\\nMax: {df[column].max()}')\n",
    "\tprint()\n",
    "\n",
    "print_min_max(numerical_feature_matrix, 'age')\n",
    "print_min_max(numerical_feature_matrix, 'balance')\n",
    "print_min_max(numerical_feature_matrix, 'day')\n",
    "print_min_max(numerical_feature_matrix, 'campaign')\n",
    "print_min_max(numerical_feature_matrix, 'pdays')\n",
    "print_min_max(numerical_feature_matrix, 'previous')\n",
    "\n",
    "# pdays has a value of -1 which is an indication that the client was not previously contacted, as indicated by the dataset authors\n",
    "# previous has a value of 0 which is an indication that the client was contacted twice within 24 hours\n",
    "\n",
    "# it appears that there are no missing values to handle"
   ]
  },
  {
   "cell_type": "code",
   "execution_count": 53,
   "metadata": {},
   "outputs": [
    {
     "name": "stdout",
     "output_type": "stream",
     "text": [
      "Scores:\n",
      "Accuracy Score:\t88.75\n",
      "Precision:\t85.43\n",
      "Recall:\t\t88.75\n",
      "F1 Score:\t83.65\n"
     ]
    }
   ],
   "source": [
    "# Scaling and normalization\n",
    "# we will now scale and normalize each column\n",
    "\n",
    "from sklearn.preprocessing import StandardScaler\n",
    "\n",
    "scaler = StandardScaler()\n",
    "\n",
    "def test_scaled_model(feature_matrix, scaler):\n",
    "\tX_train, X_test, y_train, y_test = train_test_split(feature_matrix, target, test_size=0.2)\n",
    "\n",
    "\tscaler.fit(X_train)\n",
    "\tX_train_scaled = scaler.transform(X_train)\n",
    "\tX_test_scaled = scaler.transform(X_test)\n",
    "\n",
    "\tmodel = SVC()\n",
    "\tmodel.fit(X_train_scaled, y_train)\n",
    "\n",
    "\tpred_y = model.predict(X_test_scaled)\n",
    "\n",
    "\tevaluate_model(y_test, pred_y)\n",
    "\n",
    "test_scaled_model(numerical_feature_matrix, scaler)"
   ]
  },
  {
   "cell_type": "code",
   "execution_count": null,
   "metadata": {},
   "outputs": [],
   "source": [
    "# scaling appears to have worsened the model performance\n",
    "# with precision dropping from the original results\n",
    "# and the other results staying around the same values"
   ]
  },
  {
   "cell_type": "code",
   "execution_count": 60,
   "metadata": {},
   "outputs": [
    {
     "name": "stdout",
     "output_type": "stream",
     "text": [
      "Scores:\n",
      "Accuracy Score:\t88.23\n",
      "Precision:\t85.71\n",
      "Recall:\t\t88.23\n",
      "F1 Score:\t82.82\n"
     ]
    }
   ],
   "source": [
    "# Combining two or more existing features to generate new features\n",
    "# I believe that individuals will account for age and available balance when deciding to subscribe to a term deposit\n",
    "# as such, we will create a new feature that combines these two features\n",
    "\n",
    "new_feature_matrix = numerical_feature_matrix.copy()\n",
    "life_expectancy = 75\n",
    "years_to_life_expectancy = life_expectancy - new_feature_matrix['age']\n",
    "\n",
    "# eliminate negative values and division by 0\n",
    "years_to_life_expectancy[years_to_life_expectancy <= 0] = 0.5\n",
    "\n",
    "new_column_feature_matrix = new_feature_matrix.copy()\n",
    "new_column_feature_matrix['age_balance'] = new_feature_matrix['balance'] / years_to_life_expectancy\n",
    "\n",
    "test_model(new_column_feature_matrix)"
   ]
  },
  {
   "cell_type": "code",
   "execution_count": null,
   "metadata": {},
   "outputs": [],
   "source": [
    "# it appears that this did not improve the model performance"
   ]
  },
  {
   "cell_type": "code",
   "execution_count": 61,
   "metadata": {},
   "outputs": [
    {
     "name": "stdout",
     "output_type": "stream",
     "text": [
      "Scores:\n",
      "Accuracy Score:\t88.42\n",
      "Precision:\t82.07\n",
      "Recall:\t\t88.42\n",
      "F1 Score:\t83.02\n"
     ]
    }
   ],
   "source": [
    "# Creating new features by raising existing features to a power\n",
    "# we will raise the balance column to the power of 3\n",
    "\n",
    "new_column_feature_matrix = new_feature_matrix.copy()\n",
    "new_column_feature_matrix['balance_cubed'] = new_feature_matrix['balance'] ** 3\n",
    "new_column_feature_matrix = new_column_feature_matrix.drop('balance', axis=1)\n",
    "\n",
    "test_model(new_column_feature_matrix)"
   ]
  },
  {
   "cell_type": "code",
   "execution_count": null,
   "metadata": {},
   "outputs": [],
   "source": [
    "# it appears that this did not improve the model performance"
   ]
  },
  {
   "cell_type": "code",
   "execution_count": 62,
   "metadata": {},
   "outputs": [
    {
     "name": "stdout",
     "output_type": "stream",
     "text": [
      "Scores:\n",
      "Accuracy Score:\t88.27\n",
      "Precision:\t89.64\n",
      "Recall:\t\t88.27\n",
      "F1 Score:\t82.78\n"
     ]
    }
   ],
   "source": [
    "# Dimensionality reduction (e.g., PCA)\n",
    "\n",
    "from sklearn.decomposition import PCA\n",
    "\n",
    "def test_pca_model(feature_matrix, n_components):\n",
    "\tX_train, X_test, y_train, y_test = train_test_split(feature_matrix, target, test_size=0.2)\n",
    "\n",
    "\tpca = PCA(n_components=n_components)\n",
    "\tpca.fit(X_train)\n",
    "\tX_train_pca = pca.transform(X_train)\n",
    "\tX_test_pca = pca.transform(X_test)\n",
    "\n",
    "\tmodel = SVC()\n",
    "\tmodel.fit(X_train_pca, y_train)\n",
    "\n",
    "\tpred_y = model.predict(X_test_pca)\n",
    "\n",
    "\tevaluate_model(y_test, pred_y)\n",
    "\n",
    "test_pca_model(numerical_feature_matrix, 2)"
   ]
  },
  {
   "cell_type": "code",
   "execution_count": 64,
   "metadata": {},
   "outputs": [
    {
     "name": "stdout",
     "output_type": "stream",
     "text": [
      "Scores:\n",
      "Accuracy Score:\t88.16\n",
      "Precision:\t89.56\n",
      "Recall:\t\t88.16\n",
      "F1 Score:\t82.62\n"
     ]
    }
   ],
   "source": [
    "test_pca_model(numerical_feature_matrix, 3)"
   ]
  },
  {
   "cell_type": "code",
   "execution_count": null,
   "metadata": {},
   "outputs": [],
   "source": [
    "# it appears that this did not improve the model performance\n",
    "# but performance did not decrease"
   ]
  },
  {
   "cell_type": "code",
   "execution_count": 74,
   "metadata": {},
   "outputs": [
    {
     "name": "stdout",
     "output_type": "stream",
     "text": [
      "Scores:\n",
      "Accuracy Score:\t88.07\n",
      "Precision:\t89.49\n",
      "Recall:\t\t88.07\n",
      "F1 Score:\t82.49\n"
     ]
    }
   ],
   "source": [
    "# Clustering (e.g., K-means)\n",
    "\n",
    "from sklearn.cluster import KMeans\n",
    "\n",
    "def test_kmeans_model(feature_matrix, n_clusters):\n",
    "\tX_train, X_test, y_train, y_test = train_test_split(feature_matrix, target, test_size=0.2)\n",
    "\n",
    "\tkmeans = KMeans(n_clusters=n_clusters, n_init=10)\n",
    "\tX_train_clusters = kmeans.fit_predict(X_train)\n",
    "\tX_test_clusters = kmeans.predict(X_test)\n",
    "\tX_train['cluster'] = X_train_clusters.reshape(-1, 1)\n",
    "\tX_test['cluster'] = X_test_clusters.reshape(-1, 1)\n",
    "\n",
    "\tmodel = SVC()\n",
    "\tmodel.fit(X_train, y_train)\n",
    "\n",
    "\tpred_y = model.predict(X_test)\n",
    "\n",
    "\tevaluate_model(y_test, pred_y)\n",
    "\n",
    "test_kmeans_model(numerical_feature_matrix, 2)"
   ]
  },
  {
   "cell_type": "code",
   "execution_count": null,
   "metadata": {},
   "outputs": [],
   "source": [
    "# it appears that this did not improve the model performance"
   ]
  }
 ],
 "metadata": {
  "kernelspec": {
   "display_name": "venv",
   "language": "python",
   "name": "python3"
  },
  "language_info": {
   "codemirror_mode": {
    "name": "ipython",
    "version": 3
   },
   "file_extension": ".py",
   "mimetype": "text/x-python",
   "name": "python",
   "nbconvert_exporter": "python",
   "pygments_lexer": "ipython3",
   "version": "3.8.3"
  }
 },
 "nbformat": 4,
 "nbformat_minor": 2
}
